{
 "cells": [
  {
   "cell_type": "code",
   "execution_count": 5,
   "metadata": {},
   "outputs": [],
   "source": [
    "import pickle\n",
    "from collections import defaultdict\n",
    "import seaborn as sns\n",
    "import pandas as pd\n",
    "import numpy as np\n",
    "import matplotlib as mpl\n",
    "import matplotlib.pyplot as plt"
   ]
  },
  {
   "cell_type": "code",
   "execution_count": 6,
   "metadata": {},
   "outputs": [],
   "source": [
    "f = open('../success/attention_heat_map_epoch=20.pickle','rb')\n",
    "attention_map = pickle.load(f)"
   ]
  },
  {
   "cell_type": "code",
   "execution_count": 7,
   "metadata": {},
   "outputs": [
    {
     "data": {
      "text/plain": [
       "defaultdict(list,\n",
       "            {5: array([[1.        , 0.        , 0.        , ..., 0.        , 0.        ,\n",
       "                     0.        ],\n",
       "                    [0.4825904 , 0.5174096 , 0.        , ..., 0.        , 0.        ,\n",
       "                     0.        ],\n",
       "                    [0.23077017, 0.3204486 , 0.44878122, ..., 0.        , 0.        ,\n",
       "                     0.        ],\n",
       "                    ...,\n",
       "                    [0.02363105, 0.03538684, 0.02451242, ..., 0.02344496, 0.        ,\n",
       "                     0.        ],\n",
       "                    [0.01823856, 0.02078597, 0.0244229 , ..., 0.02206665, 0.01785025,\n",
       "                     0.        ],\n",
       "                    [0.01168636, 0.01526787, 0.01661393, ..., 0.018194  , 0.0133507 ,\n",
       "                     0.01476918]], dtype=float32),\n",
       "             8: array([[1.        , 0.        , 0.        , ..., 0.        , 0.        ,\n",
       "                     0.        ],\n",
       "                    [0.5945096 , 0.40549037, 0.        , ..., 0.        , 0.        ,\n",
       "                     0.        ],\n",
       "                    [0.3259217 , 0.40169123, 0.27238706, ..., 0.        , 0.        ,\n",
       "                     0.        ],\n",
       "                    ...,\n",
       "                    [0.01181314, 0.0125761 , 0.04314914, ..., 0.02472779, 0.        ,\n",
       "                     0.        ],\n",
       "                    [0.03113663, 0.01136237, 0.03396531, ..., 0.02466348, 0.01675147,\n",
       "                     0.        ],\n",
       "                    [0.02171722, 0.00619893, 0.01287545, ..., 0.02436693, 0.01442791,\n",
       "                     0.03627579]], dtype=float32)})"
      ]
     },
     "execution_count": 7,
     "metadata": {},
     "output_type": "execute_result"
    }
   ],
   "source": [
    "attention_map"
   ]
  },
  {
   "cell_type": "code",
   "execution_count": 8,
   "metadata": {},
   "outputs": [
    {
     "data": {
      "text/plain": [
       "array([[1.        , 0.        , 0.        , ..., 0.        , 0.        ,\n",
       "        0.        ],\n",
       "       [0.4825904 , 0.5174096 , 0.        , ..., 0.        , 0.        ,\n",
       "        0.        ],\n",
       "       [0.23077017, 0.3204486 , 0.44878122, ..., 0.        , 0.        ,\n",
       "        0.        ],\n",
       "       ...,\n",
       "       [0.02363105, 0.03538684, 0.02451242, ..., 0.02344496, 0.        ,\n",
       "        0.        ],\n",
       "       [0.01823856, 0.02078597, 0.0244229 , ..., 0.02206665, 0.01785025,\n",
       "        0.        ],\n",
       "       [0.01168636, 0.01526787, 0.01661393, ..., 0.018194  , 0.0133507 ,\n",
       "        0.01476918]], dtype=float32)"
      ]
     },
     "execution_count": 8,
     "metadata": {},
     "output_type": "execute_result"
    }
   ],
   "source": [
    "attention_map[5]"
   ]
  },
  {
   "cell_type": "code",
   "execution_count": 10,
   "metadata": {},
   "outputs": [
    {
     "data": {
      "text/plain": [
       "<matplotlib.axes._subplots.AxesSubplot at 0x1a2102b860>"
      ]
     },
     "execution_count": 10,
     "metadata": {},
     "output_type": "execute_result"
    },
    {
     "data": {
      "image/png": "[encoded data removed]",
      "text/plain": [
       "<Figure size 432x288 with 2 Axes>"
      ]
     },
     "metadata": {
      "needs_background": "light"
     },
     "output_type": "display_data"
    }
   ],
   "source": [
    "sns.heatmap(attention_map[5],cmap='Blues')"
   ]
  },
  {
   "cell_type": "code",
   "execution_count": null,
   "metadata": {},
   "outputs": [],
   "source": []
  }
 ],
 "metadata": {
  "kernelspec": {
   "display_name": "Python 3",
   "language": "python",
   "name": "python3"
  },
  "language_info": {
   "codemirror_mode": {
    "name": "ipython",
    "version": 3
   },
   "file_extension": ".py",
   "mimetype": "text/x-python",
   "name": "python",
   "nbconvert_exporter": "python",
   "pygments_lexer": "ipython3",
   "version": "3.7.3"
  }
 },
 "nbformat": 4,
 "nbformat_minor": 2
}
