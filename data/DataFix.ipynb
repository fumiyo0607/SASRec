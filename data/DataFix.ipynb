{
 "cells": [
  {
   "cell_type": "code",
   "execution_count": 1,
   "metadata": {},
   "outputs": [],
   "source": [
    "import pandas as pd\n",
    "from collections import defaultdict"
   ]
  },
  {
   "cell_type": "code",
   "execution_count": 2,
   "metadata": {},
   "outputs": [],
   "source": [
    "def creat_fixed_data(dataset, minlen):\n",
    "    \n",
    "    print('================{}================'.format(dataset))\n",
    "\n",
    "    df = pd.read_table(\"../data/{}.txt\".format(dataset), header=None, sep=' ')\n",
    "    print('data num：{}'.format(len(df)))\n",
    "\n",
    "    user_list  = df[0]\n",
    "    item_list = df[1]\n",
    "    user_list = list(reversed(user_list))\n",
    "    item_list = list(reversed(item_list))\n",
    "\n",
    "    User = defaultdict(list)\n",
    "\n",
    "    for user, item in zip(user_list, item_list):\n",
    "        User[user].append(item)\n",
    "\n",
    "    cc = 0.0\n",
    "    for u in User:\n",
    "        cc += len(User[u])\n",
    "    print('average sequence length: %.2f' % (cc / len(User)))\n",
    "\n",
    "    ignore_user = []\n",
    "    for u in User:\n",
    "        if len(User[u]) < minlen:\n",
    "            ignore_user.append(u)\n",
    "\n",
    "    for u in ignore_user:\n",
    "        User.pop(u)\n",
    "\n",
    "    for u in User:\n",
    "        items = User[u]\n",
    "        items = items[0:minlen]\n",
    "        User[u] = items \n",
    "        \n",
    "    user_list = []\n",
    "    item_list = []\n",
    "\n",
    "    for u in User:\n",
    "        items = User[u]\n",
    "        for i in items:\n",
    "            user_list.append(u)\n",
    "            item_list.append(i)\n",
    "    \n",
    "    user_list = list(reversed(user_list))\n",
    "    item_list = list(reversed(item_list))\n",
    "\n",
    "    fixed_df = pd.DataFrame(\n",
    "        data={\n",
    "            'user_id': user_list,\n",
    "            'item_id': item_list\n",
    "        }\n",
    "    )\n",
    "\n",
    "    fixed_df.to_csv(\"../data/{}_min_{}.txt\".format(dataset, minlen), header=None, index=False, sep=' ')\n",
    "\n",
    "    print('user_num:{}'.format(len(User)))\n",
    "    print('fied {} created ... ! '.format(dataset))\n",
    "    print('===========================================')"
   ]
  },
  {
   "cell_type": "code",
   "execution_count": 3,
   "metadata": {},
   "outputs": [
    {
     "name": "stdout",
     "output_type": "stream",
     "text": [
      "================Beauty================\n",
      "data num：394908\n"
     ]
    },
    {
     "name": "stderr",
     "output_type": "stream",
     "text": [
      "/anaconda3/lib/python3.7/site-packages/ipykernel_launcher.py:5: FutureWarning: read_table is deprecated, use read_csv instead.\n",
      "  \"\"\"\n"
     ]
    },
    {
     "name": "stdout",
     "output_type": "stream",
     "text": [
      "average sequence length: 7.56\n",
      "user_num:40226\n",
      "fied Beauty created ... ! \n",
      "===========================================\n",
      "================ml-1m================\n",
      "data num：999611\n",
      "average sequence length: 165.50\n",
      "user_num:6040\n",
      "fied ml-1m created ... ! \n",
      "===========================================\n",
      "================Video================\n",
      "data num：287107\n",
      "average sequence length: 9.26\n",
      "user_num:29341\n",
      "fied Video created ... ! \n",
      "===========================================\n",
      "================Steam================\n",
      "data num：3686172\n",
      "average sequence length: 11.01\n",
      "user_num:281428\n",
      "fied Steam created ... ! \n",
      "===========================================\n"
     ]
    }
   ],
   "source": [
    "minlen = 5\n",
    "creat_fixed_data('Beauty', minlen)\n",
    "creat_fixed_data('ml-1m', minlen)\n",
    "creat_fixed_data('Video', minlen)\n",
    "creat_fixed_data('Steam', minlen)"
   ]
  },
  {
   "cell_type": "code",
   "execution_count": null,
   "metadata": {},
   "outputs": [
    {
     "name": "stdout",
     "output_type": "stream",
     "text": [
      "================Beauty================\n",
      "data num：394908\n"
     ]
    },
    {
     "name": "stderr",
     "output_type": "stream",
     "text": [
      "/anaconda3/lib/python3.7/site-packages/ipykernel_launcher.py:5: FutureWarning: read_table is deprecated, use read_csv instead.\n",
      "  \"\"\"\n"
     ]
    },
    {
     "name": "stdout",
     "output_type": "stream",
     "text": [
      "average sequence length: 7.56\n",
      "user_num:9379\n",
      "fied Beauty created ... ! \n",
      "===========================================\n",
      "================ml-1m================\n",
      "data num：999611\n",
      "average sequence length: 165.50\n",
      "user_num:6040\n",
      "fied ml-1m created ... ! \n",
      "===========================================\n",
      "================Video================\n",
      "data num：287107\n",
      "average sequence length: 9.26\n",
      "user_num:7519\n",
      "fied Video created ... ! \n",
      "===========================================\n",
      "================Steam================\n",
      "data num：3686172\n",
      "average sequence length: 11.01\n",
      "user_num:101471\n",
      "fied Steam created ... ! \n",
      "===========================================\n"
     ]
    }
   ],
   "source": [
    "minlen = 10\n",
    "creat_fixed_data('Beauty', minlen)\n",
    "creat_fixed_data('ml-1m', minlen)\n",
    "creat_fixed_data('Video', minlen)\n",
    "creat_fixed_data('Steam', minlen)"
   ]
  },
  {
   "cell_type": "code",
   "execution_count": null,
   "metadata": {},
   "outputs": [
    {
     "name": "stdout",
     "output_type": "stream",
     "text": [
      "================Beauty================\n",
      "data num：394908\n"
     ]
    },
    {
     "name": "stderr",
     "output_type": "stream",
     "text": [
      "/anaconda3/lib/python3.7/site-packages/ipykernel_launcher.py:5: FutureWarning: read_table is deprecated, use read_csv instead.\n",
      "  \"\"\"\n"
     ]
    },
    {
     "name": "stdout",
     "output_type": "stream",
     "text": [
      "average sequence length: 7.56\n",
      "user_num:3842\n",
      "fied Beauty created ... ! \n",
      "===========================================\n",
      "================ml-1m================\n",
      "data num：999611\n",
      "average sequence length: 165.50\n",
      "user_num:6040\n",
      "fied ml-1m created ... ! \n",
      "===========================================\n",
      "================Video================\n",
      "data num：287107\n",
      "average sequence length: 9.26\n",
      "user_num:3383\n",
      "fied Video created ... ! \n",
      "===========================================\n",
      "================Steam================\n",
      "data num：3686172\n"
     ]
    }
   ],
   "source": [
    "minlen = 15\n",
    "creat_fixed_data('Beauty', minlen)\n",
    "creat_fixed_data('ml-1m', minlen)\n",
    "creat_fixed_data('Video', minlen)\n",
    "creat_fixed_data('Steam', minlen)"
   ]
  },
  {
   "cell_type": "code",
   "execution_count": null,
   "metadata": {},
   "outputs": [],
   "source": []
  }
 ],
 "metadata": {
  "kernelspec": {
   "display_name": "Python 3",
   "language": "python",
   "name": "python3"
  },
  "language_info": {
   "codemirror_mode": {
    "name": "ipython",
    "version": 3
   },
   "file_extension": ".py",
   "mimetype": "text/x-python",
   "name": "python",
   "nbconvert_exporter": "python",
   "pygments_lexer": "ipython3",
   "version": "3.7.3"
  }
 },
 "nbformat": 4,
 "nbformat_minor": 2
}
