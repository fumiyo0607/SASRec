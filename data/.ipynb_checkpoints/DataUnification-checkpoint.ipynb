{
 "cells": [
  {
   "cell_type": "code",
   "execution_count": 1,
   "metadata": {},
   "outputs": [],
   "source": [
    "import pandas as pd\n",
    "import random\n",
    "from collections import defaultdict"
   ]
  },
  {
   "cell_type": "code",
   "execution_count": 2,
   "metadata": {},
   "outputs": [],
   "source": [
    "# minlenを満たすユーザを抽出\n",
    "\n",
    "def get_min_users(dataset, minlen):\n",
    "    df = pd.read_table(\"../data/{}_min_{}.txt\".format(dataset, minlen), header=None, sep=' ')\n",
    "    users = df[0].unique()\n",
    "    print('{} ユーザ数：{}'.format(dataset,len(users)))\n",
    "    return users"
   ]
  },
  {
   "cell_type": "code",
   "execution_count": 3,
   "metadata": {},
   "outputs": [],
   "source": [
    "# master　のユーザのみ保持したデータセットを作成\n",
    "\n",
    "def unification_users(dataset, minlen, master_user):\n",
    "    \n",
    "    df = pd.read_table(\"../data/{}_min_{}.txt\".format(dataset, minlen), header=None, sep=' ')\n",
    "    users = list(df[0])\n",
    "    items = list(df[1])\n",
    "    \n",
    "    Users = defaultdict(list)\n",
    "    \n",
    "    for u, i in zip(users, items):\n",
    "        Users[u].append(i)\n",
    "        \n",
    "    unique_users = Users.keys()\n",
    "        \n",
    "    ignore_users = []  \n",
    "\n",
    "    for u in unique_users:\n",
    "        if u not in master_user:\n",
    "            ignore_users.append(u)\n",
    "\n",
    "    for u in ignore_users:\n",
    "        Users.pop(u)\n",
    "    \n",
    "    user_list = []\n",
    "    item_list = []\n",
    "\n",
    "    for u in Users:\n",
    "        items = Users[u]\n",
    "        for i in items:\n",
    "            user_list.append(u)\n",
    "            item_list.append(i)\n",
    "        \n",
    "    unification_3000_user_df =  pd.DataFrame(\n",
    "            data={\n",
    "                'user_id': user_list,\n",
    "                'item_id': item_list\n",
    "            }\n",
    "    )\n",
    "\n",
    "    unification_3000_user_df.to_csv(\"../data/{}_{}_unification_users.txt\".format(dataset, minlen), header=None, index=False, sep=' ')\n",
    "    print('created {}  users dataset at minlen = {} ... ! '.format(dataset, minlen))"
   ]
  },
  {
   "cell_type": "code",
   "execution_count": 4,
   "metadata": {},
   "outputs": [],
   "source": [
    "# dataset\n",
    "beauty = 'Beauty'\n",
    "movie_lens = 'ml-1m'\n",
    "steam = 'Steam'\n",
    "video = 'Video'"
   ]
  },
  {
   "cell_type": "markdown",
   "metadata": {},
   "source": [
    "## item/user = 15+2"
   ]
  },
  {
   "cell_type": "code",
   "execution_count": 7,
   "metadata": {},
   "outputs": [
    {
     "name": "stdout",
     "output_type": "stream",
     "text": [
      "Beauty ユーザ数：2944\n",
      "ml-1m ユーザ数：6040\n",
      "Video ユーザ数：2618\n",
      "Steam ユーザ数：43718\n"
     ]
    },
    {
     "name": "stderr",
     "output_type": "stream",
     "text": [
      "/anaconda3/lib/python3.7/site-packages/ipykernel_launcher.py:4: FutureWarning: read_table is deprecated, use read_csv instead.\n",
      "  after removing the cwd from sys.path.\n"
     ]
    }
   ],
   "source": [
    "minlen = 15+2\n",
    "# minlenを満たすユーザを取得\n",
    "beauty_users = get_min_users(beauty, minlen)\n",
    "ml_users = get_min_users(movie_lens, minlen)\n",
    "video_users = get_min_users(video, minlen)\n",
    "steam_users = get_min_users(steam, minlen)"
   ]
  },
  {
   "cell_type": "code",
   "execution_count": 10,
   "metadata": {},
   "outputs": [],
   "source": [
    "# ユーザ数を統一\n",
    "user_num = 2600\n",
    "beauty_master_users = random.sample(list(beauty_users), user_num)\n",
    "ml_master_users = random.sample(list(ml_users), user_num)\n",
    "video_master_users = random.sample(list(video_users), user_num)\n",
    "steam_master_users = random.sample(list(steam_users), user_num)"
   ]
  },
  {
   "cell_type": "code",
   "execution_count": 11,
   "metadata": {},
   "outputs": [
    {
     "name": "stderr",
     "output_type": "stream",
     "text": [
      "/anaconda3/lib/python3.7/site-packages/ipykernel_launcher.py:5: FutureWarning: read_table is deprecated, use read_csv instead.\n",
      "  \"\"\"\n"
     ]
    },
    {
     "name": "stdout",
     "output_type": "stream",
     "text": [
      "created Beauty  users dataset at minlen = 17 ... ! \n",
      "created ml-1m  users dataset at minlen = 17 ... ! \n",
      "created Video  users dataset at minlen = 17 ... ! \n",
      "created Steam  users dataset at minlen = 17 ... ! \n"
     ]
    }
   ],
   "source": [
    "# ファイルに出力\n",
    "unification_users(beauty, minlen, beauty_master_users)\n",
    "unification_users(movie_lens, minlen, ml_master_users)\n",
    "unification_users(video, minlen, video_master_users)\n",
    "unification_users(steam, minlen, steam_master_users)"
   ]
  },
  {
   "cell_type": "markdown",
   "metadata": {},
   "source": [
    "## item/user = 10+2"
   ]
  },
  {
   "cell_type": "code",
   "execution_count": 12,
   "metadata": {},
   "outputs": [
    {
     "name": "stderr",
     "output_type": "stream",
     "text": [
      "/anaconda3/lib/python3.7/site-packages/ipykernel_launcher.py:4: FutureWarning: read_table is deprecated, use read_csv instead.\n",
      "  after removing the cwd from sys.path.\n"
     ]
    },
    {
     "name": "stdout",
     "output_type": "stream",
     "text": [
      "Beauty ユーザ数：6315\n",
      "ml-1m ユーザ数：6040\n",
      "Video ユーザ数：5267\n",
      "Steam ユーザ数：76277\n"
     ]
    }
   ],
   "source": [
    "minlen = 10+2\n",
    "# minlenを満たすユーザを取得\n",
    "beauty_users = get_min_users(beauty, minlen)\n",
    "ml_users = get_min_users(movie_lens, minlen)\n",
    "video_users = get_min_users(video, minlen)\n",
    "steam_users = get_min_users(steam, minlen)"
   ]
  },
  {
   "cell_type": "code",
   "execution_count": 13,
   "metadata": {},
   "outputs": [],
   "source": [
    "# ユーザ数を統一\n",
    "user_num = 5200\n",
    "beauty_master_users = random.sample(list(beauty_users), user_num)\n",
    "ml_master_users = random.sample(list(ml_users), user_num)\n",
    "video_master_users = random.sample(list(video_users), user_num)\n",
    "steam_master_users = random.sample(list(steam_users), user_num)"
   ]
  },
  {
   "cell_type": "code",
   "execution_count": 14,
   "metadata": {},
   "outputs": [
    {
     "name": "stderr",
     "output_type": "stream",
     "text": [
      "/anaconda3/lib/python3.7/site-packages/ipykernel_launcher.py:5: FutureWarning: read_table is deprecated, use read_csv instead.\n",
      "  \"\"\"\n"
     ]
    },
    {
     "name": "stdout",
     "output_type": "stream",
     "text": [
      "created Beauty  users dataset at minlen = 12 ... ! \n",
      "created ml-1m  users dataset at minlen = 12 ... ! \n",
      "created Video  users dataset at minlen = 12 ... ! \n",
      "created Steam  users dataset at minlen = 12 ... ! \n"
     ]
    }
   ],
   "source": [
    "# ファイルに出力\n",
    "unification_users(beauty, minlen, beauty_master_users)\n",
    "unification_users(movie_lens, minlen, ml_master_users)\n",
    "unification_users(video, minlen, video_master_users)\n",
    "unification_users(steam, minlen, steam_master_users)"
   ]
  },
  {
   "cell_type": "markdown",
   "metadata": {},
   "source": [
    "## item/user = 5+2"
   ]
  },
  {
   "cell_type": "code",
   "execution_count": 15,
   "metadata": {},
   "outputs": [
    {
     "name": "stderr",
     "output_type": "stream",
     "text": [
      "/anaconda3/lib/python3.7/site-packages/ipykernel_launcher.py:4: FutureWarning: read_table is deprecated, use read_csv instead.\n",
      "  after removing the cwd from sys.path.\n"
     ]
    },
    {
     "name": "stdout",
     "output_type": "stream",
     "text": [
      "Beauty ユーザ数：19807\n",
      "ml-1m ユーザ数：6040\n",
      "Video ユーザ数：15060\n",
      "Steam ユーザ数：173263\n"
     ]
    }
   ],
   "source": [
    "minlen = 5+2\n",
    "# minlenを満たすユーザを取得\n",
    "beauty_users = get_min_users(beauty, minlen)\n",
    "ml_users = get_min_users(movie_lens, minlen)\n",
    "video_users = get_min_users(video, minlen)\n",
    "steam_users = get_min_users(steam, minlen)"
   ]
  },
  {
   "cell_type": "code",
   "execution_count": 16,
   "metadata": {},
   "outputs": [],
   "source": [
    "# ユーザ数を統一\n",
    "user_num = 6000\n",
    "beauty_master_users = random.sample(list(beauty_users), user_num)\n",
    "ml_master_users = random.sample(list(ml_users), user_num)\n",
    "video_master_users = random.sample(list(video_users), user_num)\n",
    "steam_master_users = random.sample(list(steam_users), user_num)"
   ]
  },
  {
   "cell_type": "code",
   "execution_count": 17,
   "metadata": {},
   "outputs": [
    {
     "name": "stderr",
     "output_type": "stream",
     "text": [
      "/anaconda3/lib/python3.7/site-packages/ipykernel_launcher.py:5: FutureWarning: read_table is deprecated, use read_csv instead.\n",
      "  \"\"\"\n"
     ]
    },
    {
     "name": "stdout",
     "output_type": "stream",
     "text": [
      "created Beauty  users dataset at minlen = 7 ... ! \n",
      "created ml-1m  users dataset at minlen = 7 ... ! \n",
      "created Video  users dataset at minlen = 7 ... ! \n",
      "created Steam  users dataset at minlen = 7 ... ! \n"
     ]
    }
   ],
   "source": [
    "# ファイルに出力\n",
    "unification_users(beauty, minlen, beauty_master_users)\n",
    "unification_users(movie_lens, minlen, ml_master_users)\n",
    "unification_users(video, minlen, video_master_users)\n",
    "unification_users(steam, minlen, steam_master_users)"
   ]
  }
 ],
 "metadata": {
  "kernelspec": {
   "display_name": "Python 3",
   "language": "python",
   "name": "python3"
  },
  "language_info": {
   "codemirror_mode": {
    "name": "ipython",
    "version": 3
   },
   "file_extension": ".py",
   "mimetype": "text/x-python",
   "name": "python",
   "nbconvert_exporter": "python",
   "pygments_lexer": "ipython3",
   "version": "3.7.3"
  }
 },
 "nbformat": 4,
 "nbformat_minor": 2
}
