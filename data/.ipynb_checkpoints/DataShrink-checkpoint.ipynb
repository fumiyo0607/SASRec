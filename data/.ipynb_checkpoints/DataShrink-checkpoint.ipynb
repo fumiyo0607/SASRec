{
 "cells": [
  {
   "cell_type": "code",
   "execution_count": 1,
   "metadata": {},
   "outputs": [],
   "source": [
    "import pandas as pd\n",
    "import random\n",
    "from collections import defaultdict"
   ]
  },
  {
   "cell_type": "code",
   "execution_count": 4,
   "metadata": {},
   "outputs": [],
   "source": [
    "def create_demo_data(dataset, datanum):\n",
    "    df = pd.read_table(\"../data/{}.txt\".format(dataset), header=None, sep=' ')\n",
    "    df = df[0:datanum]\n",
    "    df.to_csv(\"../data/{}_{}_demo.txt\".format(dataset,data_num), header=None, index=False, sep=' ')\n",
    "    print('create {} demo data done ... ! '.format(dataset))"
   ]
  },
  {
   "cell_type": "code",
   "execution_count": 5,
   "metadata": {},
   "outputs": [],
   "source": [
    "demo_data_num = 1000\n",
    "beauty = 'Beauty'\n",
    "movie_lens = 'ml-1m'\n",
    "video = 'Video'\n",
    "steam = 'Steam'"
   ]
  },
  {
   "cell_type": "code",
   "execution_count": 7,
   "metadata": {},
   "outputs": [
    {
     "name": "stderr",
     "output_type": "stream",
     "text": [
      "/anaconda3/lib/python3.7/site-packages/ipykernel_launcher.py:2: FutureWarning: read_table is deprecated, use read_csv instead.\n",
      "  \n"
     ]
    },
    {
     "name": "stdout",
     "output_type": "stream",
     "text": [
      "create Beauty demo data done ... ! \n",
      "create ml-1m demo data done ... ! \n",
      "create Video demo data done ... ! \n",
      "create Steam demo data done ... ! \n"
     ]
    }
   ],
   "source": [
    "create_demo_data(beauty, demo_data_num)\n",
    "create_demo_data(movie_lens, demo_data_num)\n",
    "create_demo_data(video, demo_data_num)\n",
    "create_demo_data(steam, demo_data_num)"
   ]
  }
 ],
 "metadata": {
  "kernelspec": {
   "display_name": "Python 3",
   "language": "python",
   "name": "python3"
  },
  "language_info": {
   "codemirror_mode": {
    "name": "ipython",
    "version": 3
   },
   "file_extension": ".py",
   "mimetype": "text/x-python",
   "name": "python",
   "nbconvert_exporter": "python",
   "pygments_lexer": "ipython3",
   "version": "3.7.3"
  }
 },
 "nbformat": 4,
 "nbformat_minor": 2
}
